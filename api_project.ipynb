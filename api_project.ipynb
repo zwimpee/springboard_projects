{
 "cells": [
  {
   "cell_type": "markdown",
   "metadata": {},
   "source": [
    "This exercise will require you to pull some data from the Qunadl API. Qaundl is currently the most widely used aggregator of financial market data."
   ]
  },
  {
   "cell_type": "markdown",
   "metadata": {},
   "source": [
    "As a first step, you will need to register a free account on the http://www.quandl.com website."
   ]
  },
  {
   "cell_type": "markdown",
   "metadata": {},
   "source": [
    "After you register, you will be provided with a unique API key, that you should store:"
   ]
  },
  {
   "cell_type": "code",
   "execution_count": null,
   "metadata": {},
   "outputs": [],
   "source": [
    "# Store the API key as a string - according to PEP8, constants are always named in all upper case\n",
    "API_KEY = ''"
   ]
  },
  {
   "cell_type": "markdown",
   "metadata": {},
   "source": [
    "Qaundl has a large number of data sources, but, unfortunately, most of them require a Premium subscription. Still, there are also a good number of free datasets."
   ]
  },
  {
   "cell_type": "markdown",
   "metadata": {},
   "source": [
    "For this mini project, we will focus on equities data from the Frankfurt Stock Exhange (FSE), which is available for free. We'll try and analyze the stock prices of a company called Carl Zeiss Meditec, which manufactures tools for eye examinations, as well as medical lasers for laser eye surgery: https://www.zeiss.com/meditec/int/home.html. The company is listed under the stock ticker AFX_X."
   ]
  },
  {
   "cell_type": "markdown",
   "metadata": {},
   "source": [
    "You can find the detailed Quandl API instructions here: https://docs.quandl.com/docs/time-series"
   ]
  },
  {
   "cell_type": "markdown",
   "metadata": {},
   "source": [
    "While there is a dedicated Python package for connecting to the Quandl API, we would prefer that you use the *requests* package, which can be easily downloaded using *pip* or *conda*. You can find the documentation for the package here: http://docs.python-requests.org/en/master/ "
   ]
  },
  {
   "cell_type": "markdown",
   "metadata": {},
   "source": [
    "Finally, apart from the *requests* package, you are encouraged to not use any third party Python packages, such as *pandas*, and instead focus on what's available in the Python Standard Library (the *collections* module might come in handy: https://pymotw.com/3/collections/ ).\n",
    "Also, since you won't have access to DataFrames, you are encouraged to us Python's native data structures - preferably dictionaries, though some questions can also be answered using lists.\n",
    "You can read more on these data structures here: https://docs.python.org/3/tutorial/datastructures.html"
   ]
  },
  {
   "cell_type": "markdown",
   "metadata": {},
   "source": [
    "Keep in mind that the JSON responses you will be getting from the API map almost one-to-one to Python's dictionaries. Unfortunately, they can be very nested, so make sure you read up on indexing dictionaries in the documentation provided above."
   ]
  },
  {
   "cell_type": "code",
   "execution_count": 1,
   "metadata": {},
   "outputs": [],
   "source": [
    "# First, import the relevant modules\n",
    "import requests"
   ]
  },
  {
   "cell_type": "code",
   "execution_count": 2,
   "metadata": {},
   "outputs": [],
   "source": [
    "# Now, call the Quandl API and pull out a small sample of the data (only one day) to get a glimpse\n",
    "# into the JSON structure that will be returned\n",
    "\n",
    "res = requests.get('https://www.quandl.com/api/v3/datasets/FSE/AFX_X.json?start_date=2017-01-01&end_date=2017-01-01&api_key=E9rkUkzLyoXuDF46nKWE')"
   ]
  },
  {
   "cell_type": "code",
   "execution_count": 3,
   "metadata": {},
   "outputs": [
    {
     "data": {
      "text/plain": [
       "{'dataset': {'id': 10095370,\n",
       "  'dataset_code': 'AFX_X',\n",
       "  'database_code': 'FSE',\n",
       "  'name': 'Carl Zeiss Meditec (AFX_X)',\n",
       "  'description': 'Stock Prices for Carl Zeiss Meditec (2020-05-04) from the Frankfurt Stock Exchange.<br><br>Trading System: Xetra<br><br>ISIN: DE0005313704',\n",
       "  'refreshed_at': '2020-05-18T22:16:14.365Z',\n",
       "  'newest_available_date': '2020-05-18',\n",
       "  'oldest_available_date': '2000-06-07',\n",
       "  'column_names': ['Date',\n",
       "   'Open',\n",
       "   'High',\n",
       "   'Low',\n",
       "   'Close',\n",
       "   'Change',\n",
       "   'Traded Volume',\n",
       "   'Turnover',\n",
       "   'Last Price of the Day',\n",
       "   'Daily Traded Units',\n",
       "   'Daily Turnover'],\n",
       "  'frequency': 'daily',\n",
       "  'type': 'Time Series',\n",
       "  'premium': False,\n",
       "  'limit': None,\n",
       "  'transform': None,\n",
       "  'column_index': None,\n",
       "  'start_date': '2017-01-01',\n",
       "  'end_date': '2017-01-01',\n",
       "  'data': [],\n",
       "  'collapse': None,\n",
       "  'order': None,\n",
       "  'database_id': 6129}}"
      ]
     },
     "execution_count": 3,
     "metadata": {},
     "output_type": "execute_result"
    }
   ],
   "source": [
    "# Inspect the JSON structure of the object you created, and take note of how nested it is,\n",
    "# as well as the overall structure\n",
    "\n",
    "res.json()"
   ]
  },
  {
   "cell_type": "markdown",
   "metadata": {},
   "source": [
    "These are your tasks for this mini project:\n",
    "\n",
    "1. Collect data from the Franfurt Stock Exchange, for the ticker AFX_X, for the whole year 2017 (keep in mind that the date format is YYYY-MM-DD).\n",
    "2. Convert the returned JSON object into a Python dictionary.\n",
    "3. Calculate what the highest and lowest opening prices were for the stock in this period.\n",
    "4. What was the largest change in any one day (based on High and Low price)?\n",
    "5. What was the largest change between any two days (based on Closing Price)?\n",
    "6. What was the average daily trading volume during this year?\n",
    "7. (Optional) What was the median trading volume during this year. (Note: you may need to implement your own function for calculating the median.)"
   ]
  },
  {
   "cell_type": "markdown",
   "metadata": {},
   "source": [
    "# Task 1\n",
    "****"
   ]
  },
  {
   "cell_type": "code",
   "execution_count": 4,
   "metadata": {},
   "outputs": [],
   "source": [
    "full_year = requests.get('https://www.quandl.com/api/v3/datasets/FSE/AFX_X.json?start_date=2017-01-01&end_date=2017-12-31&api_key=E9rkUkzLyoXuDF46nKWE')"
   ]
  },
  {
   "cell_type": "code",
   "execution_count": 5,
   "metadata": {},
   "outputs": [
    {
     "name": "stdout",
     "output_type": "stream",
     "text": [
      "<Response [200]>\n"
     ]
    }
   ],
   "source": [
    "print(full_year)"
   ]
  },
  {
   "cell_type": "code",
   "execution_count": 6,
   "metadata": {},
   "outputs": [],
   "source": [
    "#full_year.json() "
   ]
  },
  {
   "cell_type": "markdown",
   "metadata": {},
   "source": [
    "# Task 2\n",
    "****"
   ]
  },
  {
   "cell_type": "code",
   "execution_count": 7,
   "metadata": {},
   "outputs": [],
   "source": [
    "full_dict = dict(full_year.json())\n",
    "full_dict = dict(full_dict['dataset'])"
   ]
  },
  {
   "cell_type": "code",
   "execution_count": 8,
   "metadata": {},
   "outputs": [],
   "source": [
    "#list(full_dict)"
   ]
  },
  {
   "cell_type": "code",
   "execution_count": 9,
   "metadata": {},
   "outputs": [
    {
     "data": {
      "text/plain": [
       "['Date',\n",
       " 'Open',\n",
       " 'High',\n",
       " 'Low',\n",
       " 'Close',\n",
       " 'Change',\n",
       " 'Traded Volume',\n",
       " 'Turnover',\n",
       " 'Last Price of the Day',\n",
       " 'Daily Traded Units',\n",
       " 'Daily Turnover']"
      ]
     },
     "execution_count": 9,
     "metadata": {},
     "output_type": "execute_result"
    }
   ],
   "source": [
    "colnames = full_dict['column_names']\n",
    "colnames"
   ]
  },
  {
   "cell_type": "markdown",
   "metadata": {},
   "source": [
    "# Task 3\n",
    "****"
   ]
  },
  {
   "cell_type": "code",
   "execution_count": 10,
   "metadata": {},
   "outputs": [],
   "source": [
    "#full_dict['data']"
   ]
  },
  {
   "cell_type": "code",
   "execution_count": 11,
   "metadata": {},
   "outputs": [],
   "source": [
    "open_list = []\n",
    "for i in range(len(full_dict['data'])):\n",
    "    open_list.append(full_dict['data'][i][colnames.index('Open')])\n",
    "    "
   ]
  },
  {
   "cell_type": "code",
   "execution_count": 12,
   "metadata": {
    "collapsed": true
   },
   "outputs": [
    {
     "data": {
      "text/plain": [
       "[51.76,\n",
       " 51.65,\n",
       " 51.45,\n",
       " 51.05,\n",
       " 51.16,\n",
       " 51.88,\n",
       " 52.73,\n",
       " 52.37,\n",
       " 52.7,\n",
       " 53.11,\n",
       " 52.64,\n",
       " 52.29,\n",
       " 52.28,\n",
       " 51.5,\n",
       " 50.89,\n",
       " 50.8,\n",
       " 51.21,\n",
       " 49.5,\n",
       " 49.52,\n",
       " 48.64,\n",
       " 49.64,\n",
       " 49.09,\n",
       " 49.13,\n",
       " 49.11,\n",
       " 48.8,\n",
       " 48.4,\n",
       " 47.25,\n",
       " 46.57,\n",
       " 47.03,\n",
       " 47.09,\n",
       " 47.98,\n",
       " 48.4,\n",
       " 48.38,\n",
       " 47.3,\n",
       " 47.65,\n",
       " 46.42,\n",
       " 46.16,\n",
       " 45.81,\n",
       " 45.0,\n",
       " 45.88,\n",
       " 46.29,\n",
       " 46.53,\n",
       " 45.48,\n",
       " 45.2,\n",
       " 45.01,\n",
       " 45.16,\n",
       " 44.9,\n",
       " 45.08,\n",
       " 45.72,\n",
       " 46.01,\n",
       " 45.8,\n",
       " 45.61,\n",
       " 45.5,\n",
       " 45.58,\n",
       " 45.97,\n",
       " 45.64,\n",
       " 46.2,\n",
       " 46.19,\n",
       " 46.01,\n",
       " 45.36,\n",
       " 44.51,\n",
       " 43.58,\n",
       " 42.0,\n",
       " 42.35,\n",
       " 42.3,\n",
       " 42.3,\n",
       " 41.48,\n",
       " 42.29,\n",
       " 42.54,\n",
       " 42.65,\n",
       " 42.5,\n",
       " 42.29,\n",
       " 42.35,\n",
       " 42.49,\n",
       " 43.21,\n",
       " 42.81,\n",
       " 42.7,\n",
       " 43.0,\n",
       " 42.66,\n",
       " 43.0,\n",
       " 42.38,\n",
       " 42.16,\n",
       " 42.0,\n",
       " 42.0,\n",
       " 41.71,\n",
       " 42.11,\n",
       " 42.64,\n",
       " 42.72,\n",
       " 42.82,\n",
       " 42.46,\n",
       " 42.42,\n",
       " 42.28,\n",
       " 41.88,\n",
       " 42.4,\n",
       " 42.53,\n",
       " 42.12,\n",
       " 41.3,\n",
       " 41.73,\n",
       " 43.5,\n",
       " 44.9,\n",
       " 45.85,\n",
       " 45.13,\n",
       " 45.34,\n",
       " 45.25,\n",
       " 45.24,\n",
       " 44.94,\n",
       " 45.26,\n",
       " 45.16,\n",
       " 44.91,\n",
       " 44.7,\n",
       " 45.31,\n",
       " 45.57,\n",
       " 45.74,\n",
       " 45.06,\n",
       " 45.5,\n",
       " 45.6,\n",
       " 45.07,\n",
       " 44.67,\n",
       " 44.29,\n",
       " 44.94,\n",
       " 44.64,\n",
       " 44.79,\n",
       " 45.5,\n",
       " 44.67,\n",
       " 45.83,\n",
       " 45.29,\n",
       " 45.01,\n",
       " 45.73,\n",
       " 46.68,\n",
       " 47.23,\n",
       " 46.95,\n",
       " 47.29,\n",
       " 47.03,\n",
       " 47.46,\n",
       " 46.48,\n",
       " 46.9,\n",
       " 45.66,\n",
       " 46.34,\n",
       " 46.52,\n",
       " 46.5,\n",
       " 47.31,\n",
       " 46.77,\n",
       " 47.8,\n",
       " 47.01,\n",
       " 47.12,\n",
       " 46.8,\n",
       " 46.12,\n",
       " 45.22,\n",
       " 45.05,\n",
       " 45.61,\n",
       " 44.8,\n",
       " 44.8,\n",
       " 43.92,\n",
       " 43.67,\n",
       " 44.16,\n",
       " 43.74,\n",
       " 44.0,\n",
       " 45.06,\n",
       " 45.15,\n",
       " 45.09,\n",
       " 45.18,\n",
       " 43.4,\n",
       " 43.5,\n",
       " 41.83,\n",
       " 43.0,\n",
       " 42.52,\n",
       " 41.86,\n",
       " 42.2,\n",
       " 41.89,\n",
       " None,\n",
       " 42.17,\n",
       " 41.51,\n",
       " 41.88,\n",
       " 41.93,\n",
       " 42.01,\n",
       " 41.97,\n",
       " 42.5,\n",
       " 41.94,\n",
       " 42.24,\n",
       " None,\n",
       " None,\n",
       " 42.06,\n",
       " 42.02,\n",
       " 41.62,\n",
       " 41.46,\n",
       " 40.9,\n",
       " 40.96,\n",
       " 41.1,\n",
       " 39.5,\n",
       " 40.15,\n",
       " 39.77,\n",
       " 40.02,\n",
       " 39.39,\n",
       " 38.95,\n",
       " 38.73,\n",
       " 38.94,\n",
       " 39.01,\n",
       " 38.25,\n",
       " 41.8,\n",
       " 41.26,\n",
       " 41.47,\n",
       " 41.4,\n",
       " 41.4,\n",
       " 41.2,\n",
       " 41.4,\n",
       " 41.53,\n",
       " 41.61,\n",
       " 41.13,\n",
       " 41.5,\n",
       " 41.25,\n",
       " 41.12,\n",
       " 41.38,\n",
       " 41.19,\n",
       " 40.38,\n",
       " 39.75,\n",
       " 39.77,\n",
       " 39.72,\n",
       " 39.6,\n",
       " 38.85,\n",
       " 39.25,\n",
       " 38.8,\n",
       " 38.8,\n",
       " 38.5,\n",
       " 38.81,\n",
       " 37.37,\n",
       " 36.65,\n",
       " 36.2,\n",
       " 35.98,\n",
       " 35.56,\n",
       " 36.06,\n",
       " 36.02,\n",
       " 35.95,\n",
       " 34.75,\n",
       " 35.24,\n",
       " 35.38,\n",
       " 34.83,\n",
       " 35.07,\n",
       " 34.42,\n",
       " 34.0,\n",
       " 34.04,\n",
       " 34.54,\n",
       " 35.04,\n",
       " 35.04,\n",
       " 35.06,\n",
       " 34.85,\n",
       " 34.98,\n",
       " 35.38,\n",
       " 34.95,\n",
       " 34.8,\n",
       " 35.29,\n",
       " 34.91,\n",
       " 35.02,\n",
       " 35.48,\n",
       " 35.9,\n",
       " 34.99]"
      ]
     },
     "execution_count": 12,
     "metadata": {},
     "output_type": "execute_result"
    }
   ],
   "source": [
    "# need to remove the values of None from the list\n",
    "#open_list "
   ]
  },
  {
   "cell_type": "code",
   "execution_count": 22,
   "metadata": {},
   "outputs": [],
   "source": [
    "open_list = list(filter(None.__ne__, open_list))"
   ]
  },
  {
   "cell_type": "code",
   "execution_count": 23,
   "metadata": {},
   "outputs": [
    {
     "name": "stdout",
     "output_type": "stream",
     "text": [
      "Highest opening price: 53.11\n",
      "Lowest opening price: 34.0\n"
     ]
    }
   ],
   "source": [
    "print('Highest opening price:',max(open_list))\n",
    "print('Lowest opening price:',min(open_list))"
   ]
  },
  {
   "cell_type": "markdown",
   "metadata": {},
   "source": [
    "# Task 4\n",
    "****"
   ]
  },
  {
   "cell_type": "code",
   "execution_count": 15,
   "metadata": {},
   "outputs": [],
   "source": [
    "change_oneday = []\n",
    "for i in range(len(full_dict['data'])):\n",
    "    change_oneday.append(full_dict['data'][i][colnames.index('High')] - full_dict['data'][i][colnames.index('Low')])    "
   ]
  },
  {
   "cell_type": "code",
   "execution_count": 17,
   "metadata": {},
   "outputs": [
    {
     "name": "stdout",
     "output_type": "stream",
     "text": [
      "Largest daily change: 2.8100000000000023\n"
     ]
    }
   ],
   "source": [
    "print('Largest daily change:',max(change_oneday))"
   ]
  },
  {
   "cell_type": "markdown",
   "metadata": {},
   "source": [
    "# Task 5\n",
    "****"
   ]
  },
  {
   "cell_type": "code",
   "execution_count": 18,
   "metadata": {},
   "outputs": [],
   "source": [
    "change_twodays = []\n",
    "for i in range(1,len(full_dict['data'])):\n",
    "    change_twodays.append(full_dict['data'][i][colnames.index('Close')] - full_dict['data'][i-1][colnames.index('Close')])    "
   ]
  },
  {
   "cell_type": "code",
   "execution_count": 19,
   "metadata": {},
   "outputs": [
    {
     "name": "stdout",
     "output_type": "stream",
     "text": [
      "Largest change between days: 2.559999999999995\n"
     ]
    }
   ],
   "source": [
    "print('Largest change between days:',max(change_twodays))"
   ]
  },
  {
   "cell_type": "markdown",
   "metadata": {},
   "source": [
    "# Task 6\n",
    "****"
   ]
  },
  {
   "cell_type": "code",
   "execution_count": 20,
   "metadata": {},
   "outputs": [],
   "source": [
    "volume_list = []\n",
    "for i in range(len(full_dict['data'])):\n",
    "    volume_list.append(full_dict['data'][i][colnames.index('Traded Volume')])\n",
    "    "
   ]
  },
  {
   "cell_type": "code",
   "execution_count": 21,
   "metadata": {},
   "outputs": [
    {
     "name": "stdout",
     "output_type": "stream",
     "text": [
      "Average daily trading volume: 89124.33725490196\n"
     ]
    }
   ],
   "source": [
    "print('Average daily trading volume:',sum(volume_list)/len(volume_list))"
   ]
  }
 ],
 "metadata": {
  "kernelspec": {
   "display_name": "Python 3",
   "language": "python",
   "name": "python3"
  },
  "language_info": {
   "codemirror_mode": {
    "name": "ipython",
    "version": 3
   },
   "file_extension": ".py",
   "mimetype": "text/x-python",
   "name": "python",
   "nbconvert_exporter": "python",
   "pygments_lexer": "ipython3",
   "version": "3.7.4"
  }
 },
 "nbformat": 4,
 "nbformat_minor": 2
}
