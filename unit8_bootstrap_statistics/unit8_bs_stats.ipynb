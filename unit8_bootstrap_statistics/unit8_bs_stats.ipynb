{
 "cells": [
  {
   "cell_type": "markdown",
   "metadata": {},
   "source": [
    "# Inferential statistics II - Bootstrapping"
   ]
  },
  {
   "cell_type": "code",
   "execution_count": 1,
   "metadata": {},
   "outputs": [],
   "source": [
    "import pandas as pd\n",
    "import numpy as np\n",
    "from numpy.random import seed\n",
    "import matplotlib.pyplot as plt"
   ]
  },
  {
   "cell_type": "markdown",
   "metadata": {},
   "source": [
    "## Medical charge data set"
   ]
  },
  {
   "cell_type": "code",
   "execution_count": 2,
   "metadata": {},
   "outputs": [],
   "source": [
    "med_charges = pd.read_csv('data/insurance2.csv')"
   ]
  },
  {
   "cell_type": "code",
   "execution_count": 3,
   "metadata": {},
   "outputs": [
    {
     "data": {
      "text/html": [
       "<div>\n",
       "<style scoped>\n",
       "    .dataframe tbody tr th:only-of-type {\n",
       "        vertical-align: middle;\n",
       "    }\n",
       "\n",
       "    .dataframe tbody tr th {\n",
       "        vertical-align: top;\n",
       "    }\n",
       "\n",
       "    .dataframe thead th {\n",
       "        text-align: right;\n",
       "    }\n",
       "</style>\n",
       "<table border=\"1\" class=\"dataframe\">\n",
       "  <thead>\n",
       "    <tr style=\"text-align: right;\">\n",
       "      <th></th>\n",
       "      <th>age</th>\n",
       "      <th>sex</th>\n",
       "      <th>bmi</th>\n",
       "      <th>children</th>\n",
       "      <th>smoker</th>\n",
       "      <th>region</th>\n",
       "      <th>charges</th>\n",
       "      <th>insuranceclaim</th>\n",
       "    </tr>\n",
       "  </thead>\n",
       "  <tbody>\n",
       "    <tr>\n",
       "      <th>0</th>\n",
       "      <td>19</td>\n",
       "      <td>0</td>\n",
       "      <td>27.900</td>\n",
       "      <td>0</td>\n",
       "      <td>1</td>\n",
       "      <td>3</td>\n",
       "      <td>16884.92400</td>\n",
       "      <td>1</td>\n",
       "    </tr>\n",
       "    <tr>\n",
       "      <th>1</th>\n",
       "      <td>18</td>\n",
       "      <td>1</td>\n",
       "      <td>33.770</td>\n",
       "      <td>1</td>\n",
       "      <td>0</td>\n",
       "      <td>2</td>\n",
       "      <td>1725.55230</td>\n",
       "      <td>1</td>\n",
       "    </tr>\n",
       "    <tr>\n",
       "      <th>2</th>\n",
       "      <td>28</td>\n",
       "      <td>1</td>\n",
       "      <td>33.000</td>\n",
       "      <td>3</td>\n",
       "      <td>0</td>\n",
       "      <td>2</td>\n",
       "      <td>4449.46200</td>\n",
       "      <td>0</td>\n",
       "    </tr>\n",
       "    <tr>\n",
       "      <th>3</th>\n",
       "      <td>33</td>\n",
       "      <td>1</td>\n",
       "      <td>22.705</td>\n",
       "      <td>0</td>\n",
       "      <td>0</td>\n",
       "      <td>1</td>\n",
       "      <td>21984.47061</td>\n",
       "      <td>0</td>\n",
       "    </tr>\n",
       "    <tr>\n",
       "      <th>4</th>\n",
       "      <td>32</td>\n",
       "      <td>1</td>\n",
       "      <td>28.880</td>\n",
       "      <td>0</td>\n",
       "      <td>0</td>\n",
       "      <td>1</td>\n",
       "      <td>3866.85520</td>\n",
       "      <td>1</td>\n",
       "    </tr>\n",
       "  </tbody>\n",
       "</table>\n",
       "</div>"
      ],
      "text/plain": [
       "   age  sex     bmi  children  smoker  region      charges  insuranceclaim\n",
       "0   19    0  27.900         0       1       3  16884.92400               1\n",
       "1   18    1  33.770         1       0       2   1725.55230               1\n",
       "2   28    1  33.000         3       0       2   4449.46200               0\n",
       "3   33    1  22.705         0       0       1  21984.47061               0\n",
       "4   32    1  28.880         0       0       1   3866.85520               1"
      ]
     },
     "execution_count": 3,
     "metadata": {},
     "output_type": "execute_result"
    }
   ],
   "source": [
    "med_charges.head()"
   ]
  },
  {
   "cell_type": "markdown",
   "metadata": {},
   "source": [
    "__Q:__ Use bootstrap sampling to estimate the same 95% confidence interval lower limit as before."
   ]
  },
  {
   "cell_type": "markdown",
   "metadata": {},
   "source": [
    "__A:__"
   ]
  },
  {
   "cell_type": "code",
   "execution_count": 20,
   "metadata": {},
   "outputs": [],
   "source": [
    "# Define function to draw replicates\n",
    "def bs_sample(data):\n",
    "    bs = np.random.choice(data,len(data))\n",
    "    return bs"
   ]
  },
  {
   "cell_type": "code",
   "execution_count": 21,
   "metadata": {},
   "outputs": [
    {
     "name": "stdout",
     "output_type": "stream",
     "text": [
      "95% CI lower limit of true average charge:  12724.467921704\n"
     ]
    }
   ],
   "source": [
    "np.random.seed(47)\n",
    "N_rep = 10000\n",
    "\n",
    "# Generate sample distribution of mean charge\n",
    "sample_dist = [np.mean(bs_sample(med_charges.charges)) for i in range(N_rep)]\n",
    "low = np.percentile(sample_dist,5)\n",
    "\n",
    "print('95% CI lower limit of true average charge: ',low)"
   ]
  },
  {
   "cell_type": "markdown",
   "metadata": {},
   "source": [
    "__Q:__ Calculate the 95% confidence interval for the difference between the standard deviations of insurance and non-insurance claim charges (insured - non-insured). Calculate the differences over 10000 replicates. Plot the histogram of values and mark the locations of the percentiles. State the null and alternative hypothesis and comment on whether you would retain or reject the null hypothesis in this case and why."
   ]
  },
  {
   "cell_type": "markdown",
   "metadata": {},
   "source": [
    "__A:__"
   ]
  },
  {
   "cell_type": "code",
   "execution_count": 12,
   "metadata": {},
   "outputs": [],
   "source": [
    "# Get bootstrap dataframe replicate\n",
    "def bs_rep_df(df):\n",
    "    # make a copy\n",
    "    df = df.copy()\n",
    "    # Get replicate from random sampling.\n",
    "    bs_rep = df.sample(frac=1,replace=True)\n",
    "    return bs_rep\n",
    "\n",
    "# Get difference in standard deviations\n",
    "def std_dev_diff(df):\n",
    "    # make a copy\n",
    "    df = df.copy()\n",
    "    \n",
    "    # Get the rows with and without insurance.\n",
    "    x0 = df[df.insuranceclaim==0]['charges'].copy().values\n",
    "    x1 = df[df.insuranceclaim==1]['charges'].copy().values\n",
    "    \n",
    "    # Calculate standard deviations.\n",
    "    s0 = np.std(x0)\n",
    "    s1 = np.std(x1)\n",
    "    \n",
    "    # Return the difference\n",
    "    diff = s1 - s0\n",
    "    return diff    "
   ]
  },
  {
   "cell_type": "code",
   "execution_count": 13,
   "metadata": {},
   "outputs": [
    {
     "data": {
      "image/png": "[encoded data removed]",
      "text/plain": [
       "<Figure size 432x288 with 1 Axes>"
      ]
     },
     "metadata": {
      "needs_background": "light"
     },
     "output_type": "display_data"
    }
   ],
   "source": [
    "# Generate 10000 replicates of the difference\n",
    "diff_reps = [std_dev_diff(bs_rep_df(med_charges)) for i in range(N_rep)]\n",
    "\n",
    "conf_int = np.percentile(diff_reps,[2.5,97.5])\n",
    "\n",
    "# Plotting histogram with marked percentiles\n",
    "plt.hist(diff_reps,bins=30);\n",
    "plt.xlabel('difference (insured - non-insured)');\n",
    "plt.ylabel('number of replicates');\n",
    "plt.title('Bootstrap replicates for difference in std. dev. of charges');\n",
    "plt.axvline(conf_int[0], color='r', linestyle='--');\n",
    "plt.axvline(conf_int[1], color='r', linestyle='--');"
   ]
  },
  {
   "cell_type": "markdown",
   "metadata": {},
   "source": [
    "***\n",
    "**<u>Null hypothesis</u>**\n",
    "\n",
    "*Let $x_0, x_1$ denote the sets of charges for non-insured and insured patients, respectively, with their variances denoted as $s_0^2, s_1^2$. If these two groups have equal variance, then the difference in their standard deviations is zero:*\n",
    "\n",
    "<h1><center>\n",
    "$s_0^2=s_1^2 \\implies s_1 - s_0 = 0$\n",
    "</center></h1>\n",
    "\n",
    "***\n",
    "**<u>Alternative hypothesis</u>**\n",
    "\n",
    "*If these two groups do not have equal variance, then there is a non-zero difference in their standard deviations:*\n",
    "\n",
    "<h1><center>\n",
    "$s_0^2 \\neq s_1^2 \\implies s_1 - s_0 \\neq 0$\n",
    "</center></h1>\n",
    "\n",
    "***\n",
    "\n",
    "\n",
    "**In this case I would likely reject the null hypothesis because the 95% confidence interval for the difference in their standard deviations does not contain zero.**"
   ]
  },
  {
   "cell_type": "markdown",
   "metadata": {},
   "source": [
    "__Q:__ Perform a bootstrapped hypothesis test at the 5% significance level ($\\alpha = 0.05$) to calculate the p-value of the observed difference between insurance and non-insurance charges, state your null and alternative hypotheses and whether you retain or reject the null hypothesis for the given significance level."
   ]
  },
  {
   "cell_type": "markdown",
   "metadata": {},
   "source": [
    "__A:__"
   ]
  },
  {
   "cell_type": "markdown",
   "metadata": {},
   "source": [
    "***\n",
    "**<u>Null hypothesis</u>**\n",
    "\n",
    "*Let $x_0, x_1$ denote the sets of charges for non-insured and insured patients, respectively. If patients without insurance are not being charged differently than patients with insurance, then the difference in mean charge between these groups is zero:*\n",
    "\n",
    "$D_n \\equiv$ Patients with and without insurance are not charged differently\n",
    "\n",
    "<h1><center>\n",
    "$D_n \\implies \\bar{x_1}-\\bar{x_0} = 0$\n",
    "</center></h1>\n",
    "\n",
    "***\n",
    "**<u>Alternative hypothesis</u>**\n",
    "\n",
    "*If patients without insurance are charged differently than patients with insurance, then the difference in mean charge between these groups is  not zero:*\n",
    "\n",
    "$D_a \\equiv$ Patients with and without insurance are charged differently\n",
    "\n",
    "<h1><center>\n",
    "$D_a \\implies \\bar{x_1}-\\bar{x_0} \\neq 0$\n",
    "</center></h1>\n",
    "\n",
    "***\n",
    "\n",
    "We begin by generating bootstrap replicates under the assumption of the null hypothesis. To do this, the array of charges for both groups must be shifted such that their means are equal."
   ]
  },
  {
   "cell_type": "code",
   "execution_count": 17,
   "metadata": {},
   "outputs": [],
   "source": [
    "# Get the two arrays.\n",
    "x0 = med_charges[med_charges.insuranceclaim==0]['charges'].copy().values\n",
    "x1 = med_charges[med_charges.insuranceclaim==1]['charges'].copy().values\n",
    "\n",
    "# Get the full mean charge\n",
    "X_mean = np.mean(med_charges.charges)\n",
    "\n",
    "# Calculate shifted arrays\n",
    "x0_shifted = x0 - np.mean(x0) + X_mean\n",
    "x1_shifted = x1 - np.mean(x1) + X_mean\n",
    "\n",
    "# Calculate observed difference in means\n",
    "obs_diff = np.mean(x1) - np.mean(x0)"
   ]
  },
  {
   "cell_type": "code",
   "execution_count": 23,
   "metadata": {},
   "outputs": [
    {
     "name": "stdout",
     "output_type": "stream",
     "text": [
      "The p-value (p = 0.0) allows us to reject the null hypothesis for the given significance level.\n"
     ]
    }
   ],
   "source": [
    "# Define function to get replicates of difference in mean\n",
    "def bs_diff_means(x_0,x_1):\n",
    "    # Generate bootstrap samples of arrays\n",
    "    x0_bs = bs_sample(x_0)\n",
    "    x1_bs = bs_sample(x_1)\n",
    "    \n",
    "    # Return the difference in means\n",
    "    diff = np.mean(x1_bs) - np.mean(x0_bs)\n",
    "    return diff\n",
    "\n",
    "# Generate 10,000 bootstrap replicates \n",
    "diff_reps = [bs_diff_means(x0_shifted,x1_shifted) for i in range(50000)]\n",
    "\n",
    "\n",
    "# Define the alpha value\n",
    "alpha = 0.05\n",
    "\n",
    "# Calculate the p-value\n",
    "p = np.sum(diff_reps >= obs_diff)/len(diff_reps)\n",
    "\n",
    "if p >= alpha:\n",
    "    print('The resultant p-value does not allow us to reject the null hypothesis.')\n",
    "else:\n",
    "    print('The p-value (p = {}) allows us to reject '\n",
    "          'the null hypothesis for the given significance level.'.format(p))"
   ]
  },
  {
   "cell_type": "markdown",
   "metadata": {},
   "source": [
    "__Q:__ To put the above result in perspective, plot the histogram of your bootstrapped differences along with lines marking the locations of the observed difference. (Why would we plot more than one line, given that we only have one observed difference?)"
   ]
  },
  {
   "cell_type": "markdown",
   "metadata": {},
   "source": [
    "__A:__ We plot more than one line for the observed difference since under the null hypothesis the probabilities of observing a positive or negative value this extreme are equally likely."
   ]
  },
  {
   "cell_type": "code",
   "execution_count": 24,
   "metadata": {},
   "outputs": [
    {
     "data": {
      "image/png": "[encoded data removed]",
      "text/plain": [
       "<Figure size 432x288 with 1 Axes>"
      ]
     },
     "metadata": {
      "needs_background": "light"
     },
     "output_type": "display_data"
    }
   ],
   "source": [
    "# Plot hist of replicates with the observed value\n",
    "plt.hist(diff_reps,bins=30);\n",
    "plt.xlabel('difference in mean');\n",
    "plt.ylabel('number of replicates');\n",
    "plt.title('Bootstrap replicates for difference in mean of charges');\n",
    "plt.axvline(obs_diff, color='r', linestyle='--');\n",
    "plt.axvline(-obs_diff, color='r', linestyle='--');"
   ]
  },
  {
   "cell_type": "markdown",
   "metadata": {},
   "source": [
    "__Q:__ Compare your p-value above with that obtained using the _t_-test function in the previous assignment. Do you think you would want to try to perform enough bootstrap replicates to observe a random difference as large as that we did observe?"
   ]
  },
  {
   "cell_type": "markdown",
   "metadata": {},
   "source": [
    "__A:__ The p-value obtained from the *t*-test function in the previous assignment was effectively zero. The number of replicates required to observe a difference this large is not computationally practical. "
   ]
  },
  {
   "cell_type": "markdown",
   "metadata": {},
   "source": [
    "__Q:__ Consider the two variants of the _t_-test we performed in the previous assignment. Which one would you use now?"
   ]
  },
  {
   "cell_type": "markdown",
   "metadata": {},
   "source": [
    "__A:__ It has been established in this assignment that the groups do not have equal variance, so I would perform the *t*-test from the previous assignment with the argument **equal_var** set to False."
   ]
  },
  {
   "cell_type": "markdown",
   "metadata": {},
   "source": [
    "__Q:__ If, instead of being asked whether the means of two groups were different, you were working with an ad-recommender team who wanted to release a new recommendation algorithm, and you were looking at click-through rate both for the current algorithm (call it A) and from trials of their new algorithm (call it B), would you perform a two-sided test as above? What would be your null and alternative hypotheses and what would be the real-world consequence of rejecting the null hypothesis?"
   ]
  },
  {
   "cell_type": "markdown",
   "metadata": {},
   "source": [
    "__A:__ In this new scenario a one-sided test would be appropriate. The null hypothesis would be that the click-through rate of B is less than or equal to that of A, and the alternative hypothesis would be that B has a higher click-through rate than A. Then the rejection of the null hypothesis would suggest that the new algorithm B is more effective than the current algorithm A."
   ]
  }
 ],
 "metadata": {
  "kernelspec": {
   "display_name": "Python 3",
   "language": "python",
   "name": "python3"
  },
  "language_info": {
   "codemirror_mode": {
    "name": "ipython",
    "version": 3
   },
   "file_extension": ".py",
   "mimetype": "text/x-python",
   "name": "python",
   "nbconvert_exporter": "python",
   "pygments_lexer": "ipython3",
   "version": "3.7.4"
  }
 },
 "nbformat": 4,
 "nbformat_minor": 4
}
